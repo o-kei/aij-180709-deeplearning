{
 "cells": [
  {
   "cell_type": "markdown",
   "metadata": {},
   "source": [
    "mnist分類学習（CPU）\n",
    "chainer公式exampleより改変\n",
    "https://github.com/chainer/chainer"
   ]
  },
  {
   "cell_type": "code",
   "execution_count": 17,
   "metadata": {},
   "outputs": [],
   "source": [
    "import argparse\n",
    "import chainer\n",
    "import chainer.functions as F\n",
    "import chainer.links as L\n",
    "from chainer import training\n",
    "from chainer.training import extensions"
   ]
  },
  {
   "cell_type": "code",
   "execution_count": 18,
   "metadata": {},
   "outputs": [],
   "source": [
    "# Network definition\n",
    "class MLP(chainer.Chain):\n",
    "\n",
    "    def __init__(self, n_units, n_out):\n",
    "        super(MLP, self).__init__()\n",
    "        with self.init_scope():\n",
    "            # the size of the inputs to each layer will be inferred\n",
    "            self.l1 = L.Linear(None, n_units)  # n_in -> n_units\n",
    "            self.l2 = L.Linear(None, n_units)  # n_units -> n_units\n",
    "            self.l3 = L.Linear(None, n_out)  # n_units -> n_out\n",
    "\n",
    "    def __call__(self, x):\n",
    "        h1 = F.relu(self.l1(x))\n",
    "        h2 = F.relu(self.l2(h1))\n",
    "        return self.l3(h2)"
   ]
  },
  {
   "cell_type": "code",
   "execution_count": 33,
   "metadata": {},
   "outputs": [],
   "source": [
    "# 引数\n",
    "class Args(object):\n",
    "    def __init__(self):\n",
    "        self.batchsize = 100\n",
    "        self.epoch = 2\n",
    "        self.frequency = -1\n",
    "        self.gpu = -1\n",
    "        self.out = \"result-chainer-mnist\"\n",
    "        self.resume = ' '\n",
    "        self.unit = 50"
   ]
  },
  {
   "cell_type": "code",
   "execution_count": 34,
   "metadata": {},
   "outputs": [
    {
     "name": "stdout",
     "output_type": "stream",
     "text": [
      "GPU: -1\n",
      "# unit: 50\n",
      "# Minibatch-size: 100\n",
      "# epoch: 2\n",
      "\n"
     ]
    }
   ],
   "source": [
    "args = Args()\n",
    "print('GPU: {}'.format(args.gpu))\n",
    "print('# unit: {}'.format(args.unit))\n",
    "print('# Minibatch-size: {}'.format(args.batchsize))\n",
    "print('# epoch: {}'.format(args.epoch))\n",
    "print('')"
   ]
  },
  {
   "cell_type": "code",
   "execution_count": 35,
   "metadata": {},
   "outputs": [],
   "source": [
    "# Set up a neural network to train\n",
    "# Classifier reports softmax cross entropy loss and accuracy at every\n",
    "# iteration, which will be used by the PrintReport extension below.\n",
    "model = L.Classifier(MLP(args.unit, 10))"
   ]
  },
  {
   "cell_type": "code",
   "execution_count": 36,
   "metadata": {},
   "outputs": [
    {
     "data": {
      "text/plain": [
       "<chainer.optimizers.adam.Adam at 0x10f8d8be0>"
      ]
     },
     "execution_count": 36,
     "metadata": {},
     "output_type": "execute_result"
    }
   ],
   "source": [
    "# Setup an optimizer\n",
    "optimizer = chainer.optimizers.Adam()\n",
    "optimizer.setup(model)"
   ]
  },
  {
   "cell_type": "code",
   "execution_count": 37,
   "metadata": {},
   "outputs": [],
   "source": [
    "# Load the MNIST dataset\n",
    "train, test = chainer.datasets.get_mnist()\n",
    "\n",
    "train_iter = chainer.iterators.SerialIterator(train, args.batchsize)\n",
    "test_iter = chainer.iterators.SerialIterator(test, args.batchsize, repeat=False, shuffle=False)"
   ]
  },
  {
   "cell_type": "code",
   "execution_count": 38,
   "metadata": {},
   "outputs": [],
   "source": [
    "# Set up a trainer\n",
    "updater = training.updaters.StandardUpdater(train_iter, optimizer, device=args.gpu)\n",
    "trainer = training.Trainer(updater, (args.epoch, 'epoch'), out=args.out)"
   ]
  },
  {
   "cell_type": "code",
   "execution_count": 39,
   "metadata": {},
   "outputs": [],
   "source": [
    "# Evaluate the model with the test dataset for each epoch\n",
    "trainer.extend(extensions.Evaluator(test_iter, model, device=args.gpu))"
   ]
  },
  {
   "cell_type": "code",
   "execution_count": 40,
   "metadata": {},
   "outputs": [],
   "source": [
    "# Dump a computational graph from 'loss' variable at the first iteration\n",
    "# The \"main\" refers to the target link of the \"main\" optimizer.\n",
    "trainer.extend(extensions.dump_graph('main/loss'))"
   ]
  },
  {
   "cell_type": "code",
   "execution_count": 41,
   "metadata": {},
   "outputs": [],
   "source": [
    "# Take a snapshot for each specified epoch\n",
    "frequency = args.epoch if args.frequency == -1 else max(1, args.frequency)\n",
    "trainer.extend(extensions.snapshot(), trigger=(frequency, 'epoch'))"
   ]
  },
  {
   "cell_type": "code",
   "execution_count": 42,
   "metadata": {},
   "outputs": [],
   "source": [
    "# Write a log of evaluation statistics for each epoch\n",
    "trainer.extend(extensions.LogReport())"
   ]
  },
  {
   "cell_type": "code",
   "execution_count": 43,
   "metadata": {},
   "outputs": [],
   "source": [
    "trainer.extend(\n",
    "    extensions.PlotReport(['main/loss', 'validation/main/loss'],\n",
    "                          'epoch', file_name='loss.png'))\n",
    "trainer.extend(\n",
    "    extensions.PlotReport(\n",
    "        ['main/accuracy', 'validation/main/accuracy'],\n",
    "        'epoch', file_name='accuracy.png'))"
   ]
  },
  {
   "cell_type": "code",
   "execution_count": 44,
   "metadata": {},
   "outputs": [],
   "source": [
    "# Print selected entries of the log to stdout\n",
    "# Here \"main\" refers to the target link of the \"main\" optimizer again, and\n",
    "# \"validation\" refers to the default name of the Evaluator extension.\n",
    "# Entries other than 'epoch' are reported by the Classifier link, called by\n",
    "# either the updater or the evaluator.\n",
    "trainer.extend(extensions.PrintReport(\n",
    "    ['epoch', 'main/loss', 'validation/main/loss',\n",
    "     'main/accuracy', 'validation/main/accuracy', 'elapsed_time']))"
   ]
  },
  {
   "cell_type": "code",
   "execution_count": 45,
   "metadata": {},
   "outputs": [],
   "source": [
    "# Print a progress bar to stdout\n",
    "trainer.extend(extensions.ProgressBar())"
   ]
  },
  {
   "cell_type": "code",
   "execution_count": 46,
   "metadata": {},
   "outputs": [
    {
     "name": "stdout",
     "output_type": "stream",
     "text": [
      "epoch       main/loss   validation/main/loss  main/accuracy  validation/main/accuracy  elapsed_time\n",
      "\u001b[J     total [####..............................................]  8.33%\n",
      "this epoch [########..........................................] 16.67%\n",
      "       100 iter, 0 epoch / 2 epochs\n",
      "       inf iters/sec. Estimated time to finish: 0:00:00.\n",
      "\u001b[4A\u001b[J     total [########..........................................] 16.67%\n",
      "this epoch [################..................................] 33.33%\n",
      "       200 iter, 0 epoch / 2 epochs\n",
      "    287.38 iters/sec. Estimated time to finish: 0:00:03.479753.\n",
      "\u001b[4A\u001b[J     total [############......................................] 25.00%\n",
      "this epoch [#########################.........................] 50.00%\n",
      "       300 iter, 0 epoch / 2 epochs\n",
      "    287.01 iters/sec. Estimated time to finish: 0:00:03.135739.\n",
      "\u001b[4A\u001b[J     total [################..................................] 33.33%\n",
      "this epoch [#################################.................] 66.67%\n",
      "       400 iter, 0 epoch / 2 epochs\n",
      "    287.29 iters/sec. Estimated time to finish: 0:00:02.784643.\n",
      "\u001b[4A\u001b[J     total [####################..............................] 41.67%\n",
      "this epoch [#########################################.........] 83.33%\n",
      "       500 iter, 0 epoch / 2 epochs\n",
      "     286.4 iters/sec. Estimated time to finish: 0:00:02.444139.\n",
      "\u001b[4A\u001b[J1           0.40664     0.197303              0.888283       0.9433                    2.2135        \n",
      "\u001b[J     total [#########################.........................] 50.00%\n",
      "this epoch [..................................................]  0.00%\n",
      "       600 iter, 1 epoch / 2 epochs\n",
      "       242 iters/sec. Estimated time to finish: 0:00:02.479350.\n",
      "\u001b[4A\u001b[J     total [#############################.....................] 58.33%\n",
      "this epoch [########..........................................] 16.67%\n",
      "       700 iter, 1 epoch / 2 epochs\n",
      "    251.78 iters/sec. Estimated time to finish: 0:00:01.985893.\n",
      "\u001b[4A\u001b[J     total [#################################.................] 66.67%\n",
      "this epoch [################..................................] 33.33%\n",
      "       800 iter, 1 epoch / 2 epochs\n",
      "    257.92 iters/sec. Estimated time to finish: 0:00:01.550873.\n",
      "\u001b[4A\u001b[J     total [#####################################.............] 75.00%\n",
      "this epoch [#########################.........................] 50.00%\n",
      "       900 iter, 1 epoch / 2 epochs\n",
      "    263.42 iters/sec. Estimated time to finish: 0:00:01.138862.\n",
      "\u001b[4A\u001b[J     total [#########################################.........] 83.33%\n",
      "this epoch [#################################.................] 66.67%\n",
      "      1000 iter, 1 epoch / 2 epochs\n",
      "    266.28 iters/sec. Estimated time to finish: 0:00:00.751077.\n",
      "\u001b[4A\u001b[J     total [#############################################.....] 91.67%\n",
      "this epoch [#########################################.........] 83.33%\n",
      "      1100 iter, 1 epoch / 2 epochs\n",
      "    267.93 iters/sec. Estimated time to finish: 0:00:00.373226.\n",
      "\u001b[4A\u001b[J2           0.174081    0.144491              0.949417       0.9564                    4.54156       \n",
      "\u001b[J     total [##################################################] 100.00%\n",
      "this epoch [..................................................]  0.00%\n",
      "      1200 iter, 2 epoch / 2 epochs\n",
      "    249.71 iters/sec. Estimated time to finish: 0:00:00.\n",
      "\u001b[4A\u001b[J"
     ]
    }
   ],
   "source": [
    "trainer.run()"
   ]
  },
  {
   "cell_type": "code",
   "execution_count": null,
   "metadata": {},
   "outputs": [],
   "source": []
  }
 ],
 "metadata": {
  "kernelspec": {
   "display_name": "Python [conda env:anaconda3-4.1.1]",
   "language": "python",
   "name": "conda-env-anaconda3-4.1.1-py"
  },
  "language_info": {
   "codemirror_mode": {
    "name": "ipython",
    "version": 3
   },
   "file_extension": ".py",
   "mimetype": "text/x-python",
   "name": "python",
   "nbconvert_exporter": "python",
   "pygments_lexer": "ipython3",
   "version": "3.6.5"
  }
 },
 "nbformat": 4,
 "nbformat_minor": 2
}
