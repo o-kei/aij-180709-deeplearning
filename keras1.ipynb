{
 "cells": [
  {
   "cell_type": "markdown",
   "metadata": {},
   "source": [
    "「SequentialモデルでKerasを始めてみよう」 より。\n",
    "https://keras.io/ja/getting-started/sequential-model-guide/"
   ]
  },
  {
   "cell_type": "code",
   "execution_count": 15,
   "metadata": {},
   "outputs": [],
   "source": [
    "from keras.models import Sequential\n",
    "from keras.layers import Dense, Activation\n",
    "\n",
    "model = Sequential([\n",
    "    Dense(32, input_shape=(784,)),\n",
    "    Activation('relu'),\n",
    "    Dense(10),\n",
    "    Activation('softmax'),\n",
    "])"
   ]
  },
  {
   "cell_type": "code",
   "execution_count": 16,
   "metadata": {},
   "outputs": [],
   "source": [
    "model = Sequential()\n",
    "model.add(Dense(32, input_dim=784))\n",
    "model.add(Activation('relu'))"
   ]
  },
  {
   "cell_type": "code",
   "execution_count": 17,
   "metadata": {},
   "outputs": [],
   "source": [
    "model = Sequential()\n",
    "model.add(Dense(32, input_shape=(784,)))"
   ]
  },
  {
   "cell_type": "code",
   "execution_count": null,
   "metadata": {},
   "outputs": [],
   "source": [
    "model = Sequential()\n",
    "model.add(Dense(32, input_dim=784))"
   ]
  },
  {
   "cell_type": "code",
   "execution_count": 18,
   "metadata": {},
   "outputs": [],
   "source": [
    "# マルチクラス分類問題の場合\n",
    "model.compile(optimizer='rmsprop',\n",
    "              loss='categorical_crossentropy',\n",
    "              metrics=['accuracy'])\n",
    "\n",
    "# 2値分類問題の場合\n",
    "model.compile(optimizer='rmsprop',\n",
    "              loss='binary_crossentropy',\n",
    "              metrics=['accuracy'])\n",
    "\n",
    "# 平均二乗誤差を最小化する回帰問題の場合\n",
    "model.compile(optimizer='rmsprop',\n",
    "              loss='mse')\n",
    "\n",
    "# 独自定義の評価関数を定義\n",
    "import keras.backend as K\n",
    "\n",
    "def mean_pred(y_true, y_pred):\n",
    "    return K.mean(y_pred)\n",
    "\n",
    "model.compile(optimizer='rmsprop',\n",
    "              loss='binary_crossentropy',\n",
    "              metrics=['accuracy', mean_pred])"
   ]
  },
  {
   "cell_type": "code",
   "execution_count": 20,
   "metadata": {},
   "outputs": [
    {
     "name": "stdout",
     "output_type": "stream",
     "text": [
      "Epoch 1/10\n",
      "1000/1000 [==============================] - 1s 1ms/step - loss: 0.7273 - acc: 0.4840\n",
      "Epoch 2/10\n",
      "1000/1000 [==============================] - 0s 107us/step - loss: 0.7033 - acc: 0.5110\n",
      "Epoch 3/10\n",
      "1000/1000 [==============================] - 0s 86us/step - loss: 0.6962 - acc: 0.5230\n",
      "Epoch 4/10\n",
      "1000/1000 [==============================] - 0s 90us/step - loss: 0.6927 - acc: 0.5200\n",
      "Epoch 5/10\n",
      "1000/1000 [==============================] - 0s 80us/step - loss: 0.6873 - acc: 0.5460\n",
      "Epoch 6/10\n",
      "1000/1000 [==============================] - 0s 87us/step - loss: 0.6832 - acc: 0.5530\n",
      "Epoch 7/10\n",
      "1000/1000 [==============================] - 0s 85us/step - loss: 0.6786 - acc: 0.5640\n",
      "Epoch 8/10\n",
      "1000/1000 [==============================] - 0s 85us/step - loss: 0.6773 - acc: 0.5540\n",
      "Epoch 9/10\n",
      "1000/1000 [==============================] - 0s 90us/step - loss: 0.6725 - acc: 0.5630\n",
      "Epoch 10/10\n",
      "1000/1000 [==============================] - 0s 104us/step - loss: 0.6687 - acc: 0.5800\n"
     ]
    },
    {
     "data": {
      "text/plain": [
       "<keras.callbacks.History at 0x7f9688c84048>"
      ]
     },
     "execution_count": 20,
     "metadata": {},
     "output_type": "execute_result"
    }
   ],
   "source": [
    "# 1つの入力から2クラス分類をするモデルにおいては\n",
    "\n",
    "model = Sequential()\n",
    "model.add(Dense(32, activation='relu', input_dim=100))\n",
    "model.add(Dense(1, activation='sigmoid'))\n",
    "model.compile(optimizer='rmsprop',\n",
    "              loss='binary_crossentropy',\n",
    "              metrics=['accuracy'])\n",
    "\n",
    "# ダミーデータの作成\n",
    "import numpy as np\n",
    "data = np.random.random((1000, 100))\n",
    "labels = np.random.randint(2, size=(1000, 1))\n",
    "\n",
    "# 各イテレーションのバッチサイズを32で学習を行なう\n",
    "model.fit(data, labels, epochs=10, batch_size=32)"
   ]
  },
  {
   "cell_type": "code",
   "execution_count": 21,
   "metadata": {},
   "outputs": [
    {
     "name": "stdout",
     "output_type": "stream",
     "text": [
      "Epoch 1/10\n",
      "1000/1000 [==============================] - 0s 218us/step - loss: 2.3768 - acc: 0.0910\n",
      "Epoch 2/10\n",
      "1000/1000 [==============================] - 0s 82us/step - loss: 2.3219 - acc: 0.1000\n",
      "Epoch 3/10\n",
      "1000/1000 [==============================] - 0s 87us/step - loss: 2.3094 - acc: 0.1190\n",
      "Epoch 4/10\n",
      "1000/1000 [==============================] - 0s 91us/step - loss: 2.3003 - acc: 0.1170\n",
      "Epoch 5/10\n",
      "1000/1000 [==============================] - 0s 87us/step - loss: 2.2888 - acc: 0.1410\n",
      "Epoch 6/10\n",
      "1000/1000 [==============================] - 0s 94us/step - loss: 2.2805 - acc: 0.1580\n",
      "Epoch 7/10\n",
      "1000/1000 [==============================] - 0s 87us/step - loss: 2.2742 - acc: 0.1500\n",
      "Epoch 8/10\n",
      "1000/1000 [==============================] - 0s 88us/step - loss: 2.2643 - acc: 0.1480\n",
      "Epoch 9/10\n",
      "1000/1000 [==============================] - 0s 88us/step - loss: 2.2574 - acc: 0.1540\n",
      "Epoch 10/10\n",
      "1000/1000 [==============================] - 0s 84us/step - loss: 2.2499 - acc: 0.1660\n"
     ]
    },
    {
     "data": {
      "text/plain": [
       "<keras.callbacks.History at 0x7f967874f550>"
      ]
     },
     "execution_count": 21,
     "metadata": {},
     "output_type": "execute_result"
    }
   ],
   "source": [
    "# 1つの入力から10クラスの分類を行なう場合について（カテゴリ分類）\n",
    "\n",
    "model = Sequential()\n",
    "model.add(Dense(32, activation='relu', input_dim=100))\n",
    "model.add(Dense(10, activation='softmax'))\n",
    "model.compile(optimizer='rmsprop',\n",
    "              loss='categorical_crossentropy',\n",
    "              metrics=['accuracy'])\n",
    "\n",
    "# ダミーデータ作成\n",
    "import numpy as np\n",
    "data = np.random.random((1000, 100))\n",
    "labels = np.random.randint(10, size=(1000, 1))\n",
    "\n",
    "# ラベルデータをカテゴリの1-hotベクトルにエンコードする\n",
    "one_hot_labels = keras.utils.to_categorical(labels, num_classes=10)\n",
    "\n",
    "# 各イテレーションのバッチサイズを32で学習を行なう\n",
    "model.fit(data, one_hot_labels, epochs=10, batch_size=32)"
   ]
  },
  {
   "cell_type": "code",
   "execution_count": null,
   "metadata": {},
   "outputs": [],
   "source": []
  }
 ],
 "metadata": {
  "kernelspec": {
   "display_name": "Environment (conda_tensorflow)",
   "language": "python",
   "name": "conda_tensorflow"
  },
  "language_info": {
   "codemirror_mode": {
    "name": "ipython",
    "version": 3
   },
   "file_extension": ".py",
   "mimetype": "text/x-python",
   "name": "python",
   "nbconvert_exporter": "python",
   "pygments_lexer": "ipython3",
   "version": "3.6.5"
  }
 },
 "nbformat": 4,
 "nbformat_minor": 2
}
